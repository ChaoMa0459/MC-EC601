{
 "cells": [
  {
   "cell_type": "markdown",
   "metadata": {},
   "source": [
    "<h1>MACHINE LEARNING EXERCISES"
   ]
  },
  {
   "cell_type": "markdown",
   "metadata": {},
   "source": [
    "<h2> Regression Models "
   ]
  },
  {
   "cell_type": "markdown",
   "metadata": {},
   "source": [
    "An example of linear fit is given. Note that data has multiple features, and the plot does represent the relation between tue and fitted values, not the data plot. After going trough this example, you will implement a small linear model on artificially generated 2D data and visualize the data and fitted line.\n",
    "\n",
    "First let's start with importing the modules we will need."
   ]
  },
  {
   "cell_type": "code",
   "execution_count": 26,
   "metadata": {
    "collapsed": true
   },
   "outputs": [],
   "source": [
    "import numpy as np\n",
    "import scipy\n",
    "import pandas\n",
    "import sklearn\n",
    "import matplotlib.pyplot as plt\n",
    "import tensorflow\n",
    "import keras"
   ]
  },
  {
   "cell_type": "markdown",
   "metadata": {},
   "source": [
    "Here is the example code for linear regression:"
   ]
  },
  {
   "cell_type": "code",
   "execution_count": 27,
   "metadata": {
    "collapsed": true
   },
   "outputs": [],
   "source": [
    "from sklearn.model_selection import KFold\n",
    "from sklearn.linear_model import LinearRegression\n",
    "import pylab as pl\n",
    "from sklearn.datasets import load_boston\n",
    "boston = load_boston()"
   ]
  },
  {
   "cell_type": "code",
   "execution_count": 30,
   "metadata": {},
   "outputs": [
    {
     "name": "stdout",
     "output_type": "stream",
     "text": [
      "['CRIM' 'ZN' 'INDUS' 'CHAS' 'NOX' 'RM' 'AGE' 'DIS' 'RAD' 'TAX' 'PTRATIO' 'B' 'LSTAT']\n",
      "(506, 13)\n",
      "(506,)\n",
      "[[   0.01   18.      2.31 ...,   15.3   396.9     4.98]\n",
      " [   0.03    0.      7.07 ...,   17.8   396.9     9.14]\n",
      " [   0.03    0.      7.07 ...,   17.8   392.83    4.03]\n",
      " ..., \n",
      " [   0.06    0.     11.93 ...,   21.    396.9     5.64]\n",
      " [   0.11    0.     11.93 ...,   21.    393.45    6.48]\n",
      " [   0.05    0.     11.93 ...,   21.    396.9     7.88]]\n"
     ]
    }
   ],
   "source": [
    "print boston.feature_names\n",
    "print boston.data.shape\n",
    "print boston.target.shape\n",
    "np.set_printoptions(precision=2, linewidth=120, suppress=True)\n",
    "print boston.data\n"
   ]
  },
  {
   "cell_type": "code",
   "execution_count": 31,
   "metadata": {},
   "outputs": [
    {
     "name": "stdout",
     "output_type": "stream",
     "text": [
      "input values = x\n",
      "[[   0.01   18.      2.31    0.      0.54    6.58   65.2     4.09    1.    296.     15.3   396.9     4.98    1.  ]\n",
      " [   0.03    0.      7.07    0.      0.47    6.42   78.9     4.97    2.    242.     17.8   396.9     9.14    1.  ]\n",
      " [   0.03    0.      7.07    0.      0.47    7.18   61.1     4.97    2.    242.     17.8   392.83    4.03    1.  ]\n",
      " [   0.03    0.      2.18    0.      0.46    7.     45.8     6.06    3.    222.     18.7   394.63    2.94    1.  ]\n",
      " [   0.07    0.      2.18    0.      0.46    7.15   54.2     6.06    3.    222.     18.7   396.9     5.33    1.  ]\n",
      " [   0.03    0.      2.18    0.      0.46    6.43   58.7     6.06    3.    222.     18.7   394.12    5.21    1.  ]\n",
      " [   0.09   12.5     7.87    0.      0.52    6.01   66.6     5.56    5.    311.     15.2   395.6    12.43    1.  ]\n",
      " [   0.14   12.5     7.87    0.      0.52    6.17   96.1     5.95    5.    311.     15.2   396.9    19.15    1.  ]\n",
      " [   0.21   12.5     7.87    0.      0.52    5.63  100.      6.08    5.    311.     15.2   386.63   29.93    1.  ]\n",
      " [   0.17   12.5     7.87    0.      0.52    6.     85.9     6.59    5.    311.     15.2   386.71   17.1     1.  ]]\n",
      "output values = y\n",
      "[ 24.   21.6  34.7  33.4  36.2  28.7  22.9  27.1  16.5  18.9]\n"
     ]
    }
   ],
   "source": [
    "# In order to do multiple regression we need to add a column of 1s for x0\n",
    "x = np.array([np.concatenate((v,[1])) for v in boston.data])\n",
    "y = boston.target\n",
    "# First 10 elements of the data\n",
    "print(\"input values = x\")\n",
    "print x[:10]\n",
    "# First 10 elements of the response variable\n",
    "print (\"output values = y\")\n",
    "print y[:10]"
   ]
  },
  {
   "cell_type": "code",
   "execution_count": 32,
   "metadata": {},
   "outputs": [
    {
     "name": "stdout",
     "output_type": "stream",
     "text": [
      "[ 30.01  25.03  30.57  28.61  27.94  25.26  23.    19.53  11.52  18.92]\n"
     ]
    }
   ],
   "source": [
    "# Create linear regression object\n",
    "linreg = LinearRegression()\n",
    "\n",
    "# Train the model using the training sets\n",
    "linreg.fit(x,y)\n",
    "\n",
    "# Let's see predictions for the first 10 instances\n",
    "print linreg.predict(x[:10])"
   ]
  },
  {
   "cell_type": "code",
   "execution_count": 33,
   "metadata": {},
   "outputs": [
    {
     "name": "stdout",
     "output_type": "stream",
     "text": [
      "[ 6.01  3.43  4.13  4.79  8.26  3.44  0.1   7.57  4.98  0.02]\n"
     ]
    }
   ],
   "source": [
    "# Compute RMSE on training data\n",
    "# p = np.array([linreg.predict(xi) for xi in x])\n",
    "p = linreg.predict(x)\n",
    "# Now we can constuct a vector of errors\n",
    "err = abs(p-y)\n",
    "# Let's see the error on the first 10 predictions\n",
    "print err[:10]"
   ]
  },
  {
   "cell_type": "code",
   "execution_count": 34,
   "metadata": {},
   "outputs": [
    {
     "name": "stdout",
     "output_type": "stream",
     "text": [
      "4.67950630064\n"
     ]
    }
   ],
   "source": [
    "# Dot product of error vector with itself gives us the sum of squared errors\n",
    "total_error = np.dot(err,err)\n",
    "# Compute RMSE\n",
    "rmse_train = np.sqrt(total_error/len(p))\n",
    "print rmse_train"
   ]
  },
  {
   "cell_type": "code",
   "execution_count": 35,
   "metadata": {},
   "outputs": [
    {
     "name": "stdout",
     "output_type": "stream",
     "text": [
      "Regression Coefficients: \n",
      "[ -0.11   0.05   0.02   2.69 -17.8    3.8    0.    -1.48   0.31  -0.01  -0.95   0.01  -0.53   0.  ]\n"
     ]
    }
   ],
   "source": [
    "# We can view the regression coefficients\n",
    "print 'Regression Coefficients: \\n', linreg.coef_"
   ]
  },
  {
   "cell_type": "code",
   "execution_count": 36,
   "metadata": {},
   "outputs": [
    {
     "data": {
      "image/png": "[encoded data removed]",
      "text/plain": [
       "<matplotlib.figure.Figure at 0x1a1e986790>"
      ]
     },
     "metadata": {},
     "output_type": "display_data"
    }
   ],
   "source": [
    "# Plot outputs\n",
    "%matplotlib inline\n",
    "pl.plot(p, y,'ro')\n",
    "pl.plot([0,50],[0,50], 'g-')\n",
    "pl.xlabel('predicted')\n",
    "pl.ylabel('real')\n",
    "pl.show()"
   ]
  },
  {
   "cell_type": "markdown",
   "metadata": {},
   "source": [
    "<h3> Exercise"
   ]
  },
  {
   "cell_type": "markdown",
   "metadata": {},
   "source": [
    "Apply linear regression to the given created data set. Visualized the data set and fitted line and interpret the plots."
   ]
  },
  {
   "cell_type": "code",
   "execution_count": null,
   "metadata": {
    "collapsed": true
   },
   "outputs": [],
   "source": []
  },
  {
   "cell_type": "code",
   "execution_count": 37,
   "metadata": {
    "collapsed": true
   },
   "outputs": [],
   "source": [
    "from sklearn.linear_model import LinearRegression"
   ]
  },
  {
   "cell_type": "code",
   "execution_count": 38,
   "metadata": {
    "collapsed": true
   },
   "outputs": [],
   "source": [
    "import random\n",
    "#a linear function with some error\n",
    "def f(x):\n",
    "    res = x* 25 + 3\n",
    "    error = random.uniform(-800, 800) # you can play with the error to see how it affects the result\n",
    "    return res + error\n",
    "\n",
    "values = []\n",
    "# now using f we are going to create 300 values.\n",
    "for i in range(0, 300):\n",
    "    x = random.uniform(1, 1000)\n",
    "    y = f(x)\n",
    "    values.append((x, y))"
   ]
  },
  {
   "cell_type": "code",
   "execution_count": 39,
   "metadata": {
    "scrolled": true
   },
   "outputs": [
    {
     "name": "stdout",
     "output_type": "stream",
     "text": [
      " y = 24.9730895421 * x + 45.2303496215\n"
     ]
    },
    {
     "data": {
      "image/png": "[encoded data removed]",
      "text/plain": [
       "<matplotlib.figure.Figure at 0x1a1ea2b090>"
      ]
     },
     "metadata": {},
     "output_type": "display_data"
    }
   ],
   "source": [
    "from sklearn import linear_model\n",
    "regr = linear_model.LinearRegression()\n",
    "# split the values into two series\n",
    "x, y = zip(*values)\n",
    "max_x = max(x)\n",
    "min_x = min(x)\n",
    "# split the values in train and data.\n",
    "train_data_X = map(lambda x: [x], list(x[:-20]))\n",
    "train_data_Y = list(y[:-20])\n",
    "test_data_X = map(lambda x: [x], list(x[-20:]))\n",
    "test_data_Y = list(y[-20:])\n",
    "# feed the linear regression with the train data to obtain a model.\n",
    "print(\"Fill here\")\n",
    "# get the coefficients of the line, call them m and b.\n",
    "print(\"Fill here\")\n",
    "print(' y = {0} * x + {1}'.format(m, b))\n",
    "# now we are going to plot the points and the model obtained\n",
    "print(\"Fill here\")\n"
   ]
  },
  {
   "cell_type": "markdown",
   "metadata": {
    "collapsed": true
   },
   "source": [
    "<h2> SVMs"
   ]
  },
  {
   "cell_type": "markdown",
   "metadata": {},
   "source": [
    "Now, implement an SVM model on Iris data set, which is a popular dataset in machine learning (showed in the class)"
   ]
  },
  {
   "cell_type": "markdown",
   "metadata": {},
   "source": [
    "<h3> Exercise"
   ]
  },
  {
   "cell_type": "code",
   "execution_count": null,
   "metadata": {
    "collapsed": true
   },
   "outputs": [],
   "source": [
    "Choose gamma and C parameters appropriately. Use rbf kernel and liner kernel."
   ]
  },
  {
   "cell_type": "code",
   "execution_count": 72,
   "metadata": {
    "collapsed": true
   },
   "outputs": [],
   "source": [
    "from sklearn import datasets\n",
    "from sklearn import svm\n",
    "iris = datasets.load_iris()\n",
    "digits = datasets.load_digits()"
   ]
  },
  {
   "cell_type": "code",
   "execution_count": 73,
   "metadata": {},
   "outputs": [
    {
     "name": "stdout",
     "output_type": "stream",
     "text": [
      "[[  0.   0.   5. ...,   0.   0.   0.]\n",
      " [  0.   0.   0. ...,  10.   0.   0.]\n",
      " [  0.   0.   0. ...,  16.   9.   0.]\n",
      " ..., \n",
      " [  0.   0.   1. ...,   6.   0.   0.]\n",
      " [  0.   0.   2. ...,  12.   0.   0.]\n",
      " [  0.   0.  10. ...,  12.   1.   0.]]\n",
      "[0 1 2 ..., 8 9 8]\n"
     ]
    }
   ],
   "source": [
    "print(digits.data)\n",
    "print(digits.target)\n"
   ]
  },
  {
   "cell_type": "markdown",
   "metadata": {
    "collapsed": true
   },
   "source": [
    "<h3> Deep Learning "
   ]
  },
  {
   "cell_type": "markdown",
   "metadata": {},
   "source": [
    "Keras is a nice library for deep learning in python, especially for beginners. It is build on Tensorflow (it also has Theano backend), provides high level functions that makes life easier when running a model. To learn more about Keras, here are two documentations for you: \n",
    "<ul>\n",
    "<li> https://keras.io/ </li>\n",
    "\n",
    "<li> https://github.com/fastforwardlabs/keras-hello-world/blob/master/kerashelloworld.ipynb </li>\n",
    "\n",
    "</ul>"
   ]
  },
  {
   "cell_type": "markdown",
   "metadata": {},
   "source": [
    "Let's start to create our model. We imported all necessary libraries at the very top of this document (check them by scrolling up). \n",
    "\n",
    "Random seed is used to reproduces the same results. Normally, since we randomly initialize weights, at each run the result is different with a similar accuracy."
   ]
  },
  {
   "cell_type": "code",
   "execution_count": 55,
   "metadata": {
    "collapsed": true
   },
   "outputs": [],
   "source": [
    "#np.random.seed(1)"
   ]
  },
  {
   "cell_type": "markdown",
   "metadata": {},
   "source": [
    "We import Sequential model type from Keras, which is a linear stack of neural network layers, and it is perfect for the CNN (convolutional) network we're building. Then we import the layers that we will use, actually these layers are used in almost any network, so it is good to know them $\\textbf{(Dense, Dropout, Activation, Flatten).}$ Then we import 2D convolutional layer type and max pooling layer. np_utils will help us to transform the data later."
   ]
  },
  {
   "cell_type": "code",
   "execution_count": 56,
   "metadata": {},
   "outputs": [],
   "source": [
    "from keras.models import Sequential\n",
    "from keras.layers import Dense, Dropout, Activation, Flatten\n",
    "from keras.layers import Conv2D, MaxPooling2D\n",
    "from keras.utils import np_utils"
   ]
  },
  {
   "cell_type": "markdown",
   "metadata": {},
   "source": [
    "MNIST is a great dataset for getting started with deep learning. It's a big enough to train neural networks, but it's manageable on a single computer. The Keras library already includes it, in the form given below. It is a handwritten digit data, each image has dimension 28x28, which includes 60000 training and 10000 test data examples."
   ]
  },
  {
   "cell_type": "code",
   "execution_count": 57,
   "metadata": {
    "collapsed": true
   },
   "outputs": [],
   "source": [
    "from keras.datasets import mnist\n",
    "(X_train, y_train), (X_test, y_test) = mnist.load_data()"
   ]
  },
  {
   "cell_type": "markdown",
   "metadata": {},
   "source": [
    "To visualize the size and the picture of a sample from dataset:"
   ]
  },
  {
   "cell_type": "code",
   "execution_count": 58,
   "metadata": {},
   "outputs": [
    {
     "name": "stdout",
     "output_type": "stream",
     "text": [
      "(60000, 28, 28)\n"
     ]
    },
    {
     "data": {
      "image/png": "[encoded data removed]",
      "text/plain": [
       "<matplotlib.figure.Figure at 0x1a1ec0e8d0>"
      ]
     },
     "metadata": {},
     "output_type": "display_data"
    }
   ],
   "source": [
    "print X_train.shape\n",
    "from matplotlib import pyplot as plt\n",
    "plt.imshow(X_train[0])\n",
    "plt.show()\n"
   ]
  },
  {
   "cell_type": "markdown",
   "metadata": {},
   "source": [
    "The first dimensions is the number of examples, the second width and the third on is the height of the image. Normally images have another dimension, rgb channels. A full color image contains 3 rgb channel. Since this dataset contains gray images, it has one channel, but it needs to be declared explicitly. Let's reshape our images to do that: "
   ]
  },
  {
   "cell_type": "code",
   "execution_count": 59,
   "metadata": {
    "collapsed": true
   },
   "outputs": [],
   "source": [
    "X_train = X_train.reshape(X_train.shape[0], 28, 28, 1)\n",
    "X_test = X_test.reshape(X_test.shape[0], 28, 28 ,1)"
   ]
  },
  {
   "cell_type": "code",
   "execution_count": 60,
   "metadata": {},
   "outputs": [
    {
     "name": "stdout",
     "output_type": "stream",
     "text": [
      "(60000, 28, 28, 1)\n"
     ]
    }
   ],
   "source": [
    "print X_train.shape"
   ]
  },
  {
   "cell_type": "markdown",
   "metadata": {},
   "source": [
    "The fina preproccesing step is the make the data type float32 and normalize the images. It makes the convergence faster and more convenient. Neural network can undo this effect if necessary."
   ]
  },
  {
   "cell_type": "code",
   "execution_count": 61,
   "metadata": {
    "collapsed": true
   },
   "outputs": [],
   "source": [
    "X_train = X_train.astype('float32')\n",
    "X_test = X_test.astype('float32')\n",
    "X_train /= 255\n",
    "X_test /= 255"
   ]
  },
  {
   "cell_type": "markdown",
   "metadata": {},
   "source": [
    "Next, let's take a look at the shape of our class label data:"
   ]
  },
  {
   "cell_type": "code",
   "execution_count": 62,
   "metadata": {},
   "outputs": [
    {
     "name": "stdout",
     "output_type": "stream",
     "text": [
      "(60000,)\n",
      "[5 0 4 1 9 2 1 3 1 4]\n"
     ]
    }
   ],
   "source": [
    "print y_train.shape\n",
    "print y_train[:10]"
   ]
  },
  {
   "cell_type": "markdown",
   "metadata": {},
   "source": [
    "This is a problem since we want to put 10 nodes to the output, one for each digit classes. Each node i should predict the probability of belonging to the class i. An example output would be :\n",
    "\n",
    "$$[0.02 , 0.38, ... , 0.001] .$$ The outputs sum up to 1 since it represents a probability distribution and for example, this means probability of belonging to class 0 is 0.02. Our target values should be of the form: $$ [1, 0, ... ,0], $$ one of the entries 1 and the others are zero. This particular output shows thata it is labeled as digit 0.\n",
    "\n"
   ]
  },
  {
   "cell_type": "code",
   "execution_count": 63,
   "metadata": {
    "collapsed": true
   },
   "outputs": [],
   "source": [
    "Y_train = np_utils.to_categorical(y_train, 10)\n",
    "Y_test = np_utils.to_categorical(y_test, 10)"
   ]
  },
  {
   "cell_type": "code",
   "execution_count": 64,
   "metadata": {},
   "outputs": [
    {
     "name": "stdout",
     "output_type": "stream",
     "text": [
      "(60000, 10)\n"
     ]
    }
   ],
   "source": [
    "print Y_train.shape"
   ]
  },
  {
   "cell_type": "markdown",
   "metadata": {},
   "source": [
    "Now, we can define our model architecture. We will not go into details or math, just application aspects will be discussed. To learn more you can take a look at this link:\n",
    "http://cs231n.github.io/convolutional-networks/\n",
    "\n",
    "For more examples: https://github.com/fchollet/keras/tree/master/examples"
   ]
  },
  {
   "cell_type": "markdown",
   "metadata": {},
   "source": [
    "Let's start by declaring a sequential model format, then declaring the input layer:\n",
    "The input shape parameter should be the shape of 1 sample. Namely, for our case (depth, width, height) of each digit image. But, what do the first 3 parameters represent? They correspond to the number of convolution filters to use, the number of rows in each convolution kernel, and the number of columns in each convolution kernel, respectively. Let's print the shape to see the output sizes."
   ]
  },
  {
   "cell_type": "code",
   "execution_count": 65,
   "metadata": {},
   "outputs": [
    {
     "name": "stdout",
     "output_type": "stream",
     "text": [
      "(None, 26, 26, 32)\n"
     ]
    }
   ],
   "source": [
    "model = Sequential()\n",
    "model.add(Conv2D(32, (3, 3), activation='relu', input_shape=(28,28,1)))\n",
    "print model.output_shape\n"
   ]
  },
  {
   "cell_type": "markdown",
   "metadata": {},
   "source": [
    "Next, we can simply add more layers to our model: Dropout is a widely-used method for regularizing our model in order to prevent overfitting. Here is the link: https://www.quora.com/How-does-the-dropout-method-work-in-deep-learning-And-why-is-it-claimed-to-be-an-effective-trick-to-improve-your-network\n",
    "\n",
    "MaxPooling2D is a way to reduce the number of parameters in our model by sliding a 2x2 pooling filter across the previous layer and taking the max of the 4 values in the 2x2 filter."
   ]
  },
  {
   "cell_type": "code",
   "execution_count": 66,
   "metadata": {
    "collapsed": true
   },
   "outputs": [],
   "source": [
    "model.add(Conv2D(32, (3, 3), activation='relu'))\n",
    "model.add(MaxPooling2D(pool_size=(2,2)))\n",
    "model.add(Dropout(0.25))\n",
    "model.add(Flatten())\n",
    "model.add(Dense(128, activation='relu'))\n",
    "model.add(Dropout(0.5))\n",
    "model.add(Dense(10, activation='softmax'))"
   ]
  },
  {
   "cell_type": "markdown",
   "metadata": {},
   "source": [
    "So we have added 2 convolutional layers and one fully-connected layer, and the output layers which gives a probability distribution. \n",
    "<ul>\n",
    "\n",
    "<li>For Dense layers, the first parameter is the output size of the layer. Keras automatically handles the connections between layers. </li>\n",
    "<li>The final layer has an output size of 10, corresponding to the 10 classes of digits.</li>\n",
    "<li>The weights from the Convolution layers must be flattened (made 1-dimensional) before passing them to the fully connected Dense layer.</li>\n",
    "</ul>\n",
    "\n",
    "Now we need to do define the loss function and the optimizer, the train the network. Let's choose ADAM optimizer and categorical cross entropy as our loss. Here are some other loss functions: https://keras.io/losses/ and some other optimizers: https://keras.io/optimizers/. Remember that you need to consider your task and network when you make a choice."
   ]
  },
  {
   "cell_type": "code",
   "execution_count": 67,
   "metadata": {
    "collapsed": true
   },
   "outputs": [],
   "source": [
    "model.compile(loss='categorical_crossentropy',\n",
    "              optimizer='adam',\n",
    "              metrics=['accuracy'])"
   ]
  },
  {
   "cell_type": "markdown",
   "metadata": {},
   "source": [
    "We now will fit the model, by declaring the batch size and number of epochs to train for, then giving training data as the input.\n"
   ]
  },
  {
   "cell_type": "code",
   "execution_count": 68,
   "metadata": {},
   "outputs": [
    {
     "name": "stdout",
     "output_type": "stream",
     "text": [
      "Epoch 1/1\n",
      "60000/60000 [==============================] - 167s - loss: 0.1982 - acc: 0.9397   \n"
     ]
    },
    {
     "data": {
      "text/plain": [
       "<keras.callbacks.History at 0x1a225fdf50>"
      ]
     },
     "execution_count": 68,
     "metadata": {},
     "output_type": "execute_result"
    }
   ],
   "source": [
    "model.fit(X_train, Y_train, \n",
    "          batch_size=32, epochs=1, verbose=1)"
   ]
  },
  {
   "cell_type": "markdown",
   "metadata": {},
   "source": [
    "We get accuracy 93% in just one epoch! If you run for 10 epochs you will see it will become 99% !"
   ]
  },
  {
   "cell_type": "markdown",
   "metadata": {},
   "source": [
    "Finally, we can evaluate our model on the test data:"
   ]
  },
  {
   "cell_type": "code",
   "execution_count": 69,
   "metadata": {
    "scrolled": true
   },
   "outputs": [
    {
     "name": "stdout",
     "output_type": "stream",
     "text": [
      "[0.04778363938719267, 0.98499999999999999]\n"
     ]
    }
   ],
   "source": [
    "score = model.evaluate(X_test, Y_test, verbose=0)\n",
    "print (score)"
   ]
  },
  {
   "cell_type": "markdown",
   "metadata": {
    "collapsed": true
   },
   "source": [
    "<h3>Exercise:</h3>\n",
    "<ol>\n",
    "<li>Run the code by making epoch number 10, plot the accuracy vs. epoch</li>\n",
    "<li>Run the code by first changing the kernel size in both of the convolutional layers(try 5 and 7), then change the filter numbers (for filter numbers try to give a number that has the form $2^n$)</li>\n",
    "<li>Play around the layers, number of nodes, try different activation functions</li>\n",
    "</ol>"
   ]
  },
  {
   "cell_type": "code",
   "execution_count": null,
   "metadata": {
    "collapsed": true
   },
   "outputs": [],
   "source": []
  }
 ],
 "metadata": {
  "kernelspec": {
   "display_name": "Python (tf13)",
   "language": "python",
   "name": "tf13"
  },
  "language_info": {
   "codemirror_mode": {
    "name": "ipython",
    "version": 2
   },
   "file_extension": ".py",
   "mimetype": "text/x-python",
   "name": "python",
   "nbconvert_exporter": "python",
   "pygments_lexer": "ipython2",
   "version": "2.7.14"
  }
 },
 "nbformat": 4,
 "nbformat_minor": 2
}
